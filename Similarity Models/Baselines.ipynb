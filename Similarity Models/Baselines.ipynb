{
 "cells": [
  {
   "cell_type": "code",
   "execution_count": 2,
   "metadata": {
    "collapsed": false
   },
   "outputs": [
    {
     "name": "stdout",
     "output_type": "stream",
     "text": [
      "\n"
     ]
    }
   ],
   "source": [
    "import math\n",
    "import numpy as np\n",
    "import sklearn.metrics\n",
    "import sklearn.metrics.pairwise"
   ]
  },
  {
   "cell_type": "code",
   "execution_count": 3,
   "metadata": {
    "collapsed": true
   },
   "outputs": [],
   "source": [
    "train_files = [\"../ml-100k/u\" + str(i) + \".base\" for i in range(1, 6)]\n",
    "test_files  = [\"../ml-100k/u\" + str(i) + \".test\" for i in range(1, 6)]\n",
    "\n",
    "\"\"\"\n",
    "    data[i] -> user id | item id | rating | timestamp\n",
    "\"\"\"\n",
    "\n",
    "\"\"\"\n",
    "    -> 943 users\n",
    "    -> 1682 movies\n",
    "\"\"\"\n",
    "\n",
    "numUsers = 943\n",
    "numMovies = 1682"
   ]
  },
  {
   "cell_type": "markdown",
   "metadata": {},
   "source": [
    "### 1. Global average"
   ]
  },
  {
   "cell_type": "code",
   "execution_count": 4,
   "metadata": {
    "collapsed": false,
    "scrolled": true
   },
   "outputs": [
    {
     "name": "stdout",
     "output_type": "stream",
     "text": [
      "Fold 1 MSE: 1.3309681925 MAE: 0.968048775 NMAE: 0.193609755\n",
      "Unable to predict 0 \n",
      "\n",
      "Fold 2 MSE: 1.27840067266 MAE: 0.94891099 NMAE: 0.189782198\n",
      "Unable to predict 0 \n",
      "\n",
      "Fold 3 MSE: 1.23561516641 MAE: 0.930603945 NMAE: 0.186120789\n",
      "Unable to predict 0 \n",
      "\n",
      "Fold 4 MSE: 1.23942282766 MAE: 0.936131395 NMAE: 0.187226279\n",
      "Unable to predict 0 \n",
      "\n",
      "Fold 5 MSE: 1.25143442766 MAE: 0.939934095 NMAE: 0.187986819\n",
      "Unable to predict 0 \n",
      "\n",
      "MSE across 5 folds: 1.26716825738\n",
      "MAE across 5 folds: 0.94472584\n",
      "NMAE across 5 folds : 0.188945168\n"
     ]
    }
   ],
   "source": [
    "errors = []\n",
    "\n",
    "for t in range(5):\n",
    "    print 'Fold', t + 1,\n",
    "\n",
    "    \"\"\" Load Train Data, fold = t \"\"\"\n",
    "    with open(train_files[t], 'r') as fp:\n",
    "        trainData = fp.readlines()\n",
    "        trainData = map(lambda x : x.strip('\\r\\n'), trainData)\n",
    "        trainData = map(lambda x : map(int, x.split('\\t')[:3]), trainData)\n",
    "\n",
    "    \"\"\" Prepare rating matrix \"\"\"\n",
    "    ratingMatrix = np.zeros((numUsers, numMovies))\n",
    "    for u, m, r in trainData:\n",
    "        ratingMatrix[u - 1][m - 1] = r\n",
    "\n",
    "    averageRating = ratingMatrix[ratingMatrix != 0].mean()\n",
    "\n",
    "    \"\"\" Load Test Data, fold = t \"\"\"\n",
    "    with open(test_files[t], 'r') as fp:\n",
    "        testData = fp.readlines()\n",
    "        testData = map(lambda x : x.strip('\\r\\n'), testData)\n",
    "        testData = map(lambda x : map(int, x.split('\\t')[:3]), testData)\n",
    "\n",
    "\n",
    "    \"\"\" Test Model \"\"\"\n",
    "\n",
    "    true = []\n",
    "    pred = []\n",
    "    unable = 0\n",
    "\n",
    "    for u, m, trueRating in testData:\n",
    "\n",
    "        \"\"\" Get common raters \"\"\"\n",
    "        \n",
    "        true.append(trueRating)\n",
    "        pred.append(averageRating)\n",
    "\n",
    "\n",
    "    \"\"\" Compute Error \"\"\"\n",
    "    MSE = sklearn.metrics.mean_squared_error(true, pred)\n",
    "    MAE = sklearn.metrics.mean_absolute_error(true, pred)\n",
    "    print 'MSE:', MSE,\n",
    "    print 'MAE:', MAE,\n",
    "    print 'NMAE:', MAE / 5.\n",
    "    print 'Unable to predict', unable, '\\n'\n",
    "\n",
    "    errors.append([MSE, MAE])\n",
    "\n",
    "    del ratingMatrix\n",
    "\n",
    "errors = np.array(errors)\n",
    "print 'MSE across 5 folds:', errors[:, 0].mean()\n",
    "print 'MAE across 5 folds:', errors[:, 1].mean()\n",
    "print 'NMAE across 5 folds :', errors[:, 1].mean() / 5."
   ]
  },
  {
   "cell_type": "markdown",
   "metadata": {},
   "source": [
    "### 2. User average"
   ]
  },
  {
   "cell_type": "code",
   "execution_count": 10,
   "metadata": {
    "collapsed": false
   },
   "outputs": [
    {
     "name": "stdout",
     "output_type": "stream",
     "text": [
      "Fold 1 MSE: 1.12995864142 MAE: 0.850191274015 NMAE: 0.170038254803\n",
      "Unable to predict 0 \n",
      "\n",
      "Fold 2 MSE: 1.09567875703 MAE: 0.838340145799 NMAE: 0.16766802916\n",
      "Unable to predict 0 \n",
      "\n",
      "Fold 3 MSE: 1.06687508944 MAE: 0.82652751695 NMAE: 0.16530550339\n",
      "Unable to predict 0 \n",
      "\n",
      "Fold 4 MSE: 1.07465897369 MAE: 0.83077651289 NMAE: 0.166155302578\n",
      "Unable to predict 0 \n",
      "\n",
      "Fold 5 MSE: 1.08012858977 MAE: 0.835048437302 NMAE: 0.16700968746\n",
      "Unable to predict 0 \n",
      "\n",
      "MSE across 5 folds: 1.08946001027\n",
      "MAE across 5 folds: 0.836176777391\n",
      "NMAE across 5 folds : 0.167235355478\n"
     ]
    }
   ],
   "source": [
    "errors = []\n",
    "\n",
    "for t in range(5):\n",
    "    print 'Fold', t + 1,\n",
    "\n",
    "    \"\"\" Load Train Data, fold = t \"\"\"\n",
    "    with open(train_files[t], 'r') as fp:\n",
    "        trainData = fp.readlines()\n",
    "        trainData = map(lambda x : x.strip('\\r\\n'), trainData)\n",
    "        trainData = map(lambda x : map(int, x.split('\\t')[:3]), trainData)\n",
    "\n",
    "    \"\"\" Prepare rating matrix \"\"\"\n",
    "    ratingMatrix = np.zeros((numUsers, numMovies))\n",
    "    for u, m, r in trainData:\n",
    "        ratingMatrix[u - 1][m - 1] = r\n",
    "\n",
    "    \"\"\" Load Test Data, fold = t \"\"\"\n",
    "    with open(test_files[t], 'r') as fp:\n",
    "        testData = fp.readlines()\n",
    "        testData = map(lambda x : x.strip('\\r\\n'), testData)\n",
    "        testData = map(lambda x : map(int, x.split('\\t')[:3]), testData)\n",
    "\n",
    "\n",
    "    \"\"\" Test Model \"\"\"\n",
    "\n",
    "    true = []\n",
    "    pred = []\n",
    "    unable = 0\n",
    "\n",
    "    for u, m, trueRating in testData:\n",
    "\n",
    "        \"\"\" Get common raters \"\"\"\n",
    "        \n",
    "        predictedRating = ratingMatrix[u - 1, :][np.where(ratingMatrix[u - 1, :] != 0)].mean()\n",
    "        true.append(trueRating)\n",
    "        pred.append(predictedRating)\n",
    "\n",
    "\n",
    "    \"\"\" Compute Error \"\"\"\n",
    "    MSE = sklearn.metrics.mean_squared_error(true, pred)\n",
    "    MAE = sklearn.metrics.mean_absolute_error(true, pred)\n",
    "    print 'MSE:', MSE,\n",
    "    print 'MAE:', MAE,\n",
    "    print 'NMAE:', MAE / 5.\n",
    "    print 'Unable to predict', unable, '\\n'\n",
    "\n",
    "    errors.append([MSE, MAE])\n",
    "\n",
    "    del ratingMatrix\n",
    "\n",
    "errors = np.array(errors)\n",
    "print 'MSE across 5 folds:', errors[:, 0].mean()\n",
    "print 'MAE across 5 folds:', errors[:, 1].mean()\n",
    "print 'NMAE across 5 folds :', errors[:, 1].mean() / 5."
   ]
  },
  {
   "cell_type": "markdown",
   "metadata": {},
   "source": [
    "### 3. Item average"
   ]
  },
  {
   "cell_type": "code",
   "execution_count": 18,
   "metadata": {
    "collapsed": false
   },
   "outputs": [
    {
     "name": "stdout",
     "output_type": "stream",
     "text": [
      "Fold 1 MSE: 1.06622437661 MAE: 0.827145723289 NMAE: 0.165429144658\n",
      "Unable to predict 32 \n",
      "\n",
      "Fold 2 MSE: 1.05934583127 MAE: 0.820010747804 NMAE: 0.164002149561\n",
      "Unable to predict 36 \n",
      "\n",
      "Fold 3 MSE: 1.03824893742 MAE: 0.811239160119 NMAE: 0.162247832024\n",
      "Unable to predict 36 \n",
      "\n",
      "Fold 4 MSE: 1.03265119012 MAE: 0.810707331979 NMAE: 0.162141466396\n",
      "Unable to predict 27 \n",
      "\n",
      "Fold 5 MSE: 1.04407585553 MAE: 0.815413567127 NMAE: 0.163082713425\n",
      "Unable to predict 36 \n",
      "\n",
      "MSE across 5 folds: 1.04810923819\n",
      "MAE across 5 folds: 0.816903306064\n",
      "NMAE across 5 folds : 0.163380661213\n"
     ]
    }
   ],
   "source": [
    "errors = []\n",
    "\n",
    "for t in range(5):\n",
    "    print 'Fold', t + 1,\n",
    "\n",
    "    \"\"\" Load Train Data, fold = t \"\"\"\n",
    "    with open(train_files[t], 'r') as fp:\n",
    "        trainData = fp.readlines()\n",
    "        trainData = map(lambda x : x.strip('\\r\\n'), trainData)\n",
    "        trainData = map(lambda x : map(int, x.split('\\t')[:3]), trainData)\n",
    "\n",
    "    \"\"\" Prepare rating matrix \"\"\"\n",
    "    ratingMatrix = np.zeros((numUsers, numMovies))\n",
    "    for u, m, r in trainData:\n",
    "        ratingMatrix[u - 1][m - 1] = r\n",
    "\n",
    "    \"\"\" Load Test Data, fold = t \"\"\"\n",
    "    with open(test_files[t], 'r') as fp:\n",
    "        testData = fp.readlines()\n",
    "        testData = map(lambda x : x.strip('\\r\\n'), testData)\n",
    "        testData = map(lambda x : map(int, x.split('\\t')[:3]), testData)\n",
    "\n",
    "\n",
    "    \"\"\" Test Model \"\"\"\n",
    "\n",
    "    true = []\n",
    "    pred = []\n",
    "    unable = 0\n",
    "\n",
    "    for u, m, trueRating in testData:\n",
    "\n",
    "        \"\"\" Get common raters \"\"\"\n",
    "        \n",
    "        true.append(trueRating)\n",
    "        \n",
    "        rel = ratingMatrix[:, m - 1][np.where(ratingMatrix[:, m - 1] != 0)]\n",
    "        if rel.shape[0] == 0:\n",
    "            unable += 1\n",
    "            pred.append(3.)\n",
    "            continue\n",
    "            \n",
    "        pred.append(rel.mean())\n",
    "\n",
    "\n",
    "    \"\"\" Compute Error \"\"\"\n",
    "    MSE = sklearn.metrics.mean_squared_error(true, pred)\n",
    "    MAE = sklearn.metrics.mean_absolute_error(true, pred)\n",
    "    print 'MSE:', MSE,\n",
    "    print 'MAE:', MAE,\n",
    "    print 'NMAE:', MAE / 5.\n",
    "    print 'Unable to predict', unable, '\\n'\n",
    "\n",
    "    errors.append([MSE, MAE])\n",
    "\n",
    "    del ratingMatrix\n",
    "\n",
    "errors = np.array(errors)\n",
    "print 'MSE across 5 folds:', errors[:, 0].mean()\n",
    "print 'MAE across 5 folds:', errors[:, 1].mean()\n",
    "print 'NMAE across 5 folds :', errors[:, 1].mean() / 5."
   ]
  },
  {
   "cell_type": "code",
   "execution_count": null,
   "metadata": {
    "collapsed": true
   },
   "outputs": [],
   "source": []
  }
 ],
 "metadata": {
  "kernelspec": {
   "display_name": "Python 2",
   "language": "python",
   "name": "python2"
  },
  "language_info": {
   "codemirror_mode": {
    "name": "ipython",
    "version": 2
   },
   "file_extension": ".py",
   "mimetype": "text/x-python",
   "name": "python",
   "nbconvert_exporter": "python",
   "pygments_lexer": "ipython2",
   "version": "2.7.11"
  }
 },
 "nbformat": 4,
 "nbformat_minor": 2
}
